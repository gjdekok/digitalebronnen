{
  "nbformat": 4,
  "nbformat_minor": 0,
  "metadata": {
    "colab": {
      "provenance": []
    },
    "kernelspec": {
      "name": "python3",
      "display_name": "Python 3"
    },
    "language_info": {
      "name": "python"
    }
  },
  "cells": [
    {
      "cell_type": "markdown",
      "source": [
        "# Duiken in Digitale Bronnen - Introductie programmeren\n",
        "\n",
        "Welkom bij deze mini-workshop programmeren met Python.\n",
        "\n",
        "De webpagina waar je nu bent, is een zogenoemd *notebook*. Dat is een interactieve omgeving die op de achtergrond gebruikmaakt van een programmeertaal. In dit notebook gebruiken we Python. Hieronder vind je blokken met code, die je kunt uitvoeren door op het *play*-knopje te drukken. De instructies worden dan direct uitgevoerd door de computer."
      ],
      "metadata": {
        "id": "7ycHLoE7EvfH"
      }
    },
    {
      "cell_type": "markdown",
      "source": [
        "Laten we beginnen met het uitvoeren van onze eerste Python-code:"
      ],
      "metadata": {
        "id": "i3z2yakXFxBo"
      }
    },
    {
      "cell_type": "code",
      "source": [
        "print(\"Hallo wereld!\")"
      ],
      "metadata": {
        "id": "6FwxGoLpF0pf"
      },
      "execution_count": null,
      "outputs": []
    },
    {
      "cell_type": "markdown",
      "source": [
        "*print* is een instructie aan Python om iets 'af te drukken' (in dit geval op het scherm). Laten we nog een voorbeeld proberen:\n"
      ],
      "metadata": {
        "id": "pvnc3BgZF70H"
      }
    },
    {
      "cell_type": "code",
      "execution_count": null,
      "metadata": {
        "id": "52LE-nAe-w--"
      },
      "outputs": [],
      "source": [
        "print(\"De Dutch Prize Papers zijn een interessante bronnencollectie. \\nWaarom lagen die bronnen eigenlijk in een Brits archief? \\nA) Een Brit kocht ze bij een antiquair. \\nB) Vanwege kaapvaart. \\nC) Nederland wilde ze niet hebben.\")"
      ]
    },
    {
      "cell_type": "markdown",
      "source": [
        "In dit *print statement* valt je misschien op dat er nieuwe regels staan. Dat wordt in de code aangegeven met '\\n'. Het is natuurlijk ook een vraag en notebooks zijn interactief. Laten we eens kijken of we jou als gebruiker om een antwoord kunnen vragen:"
      ],
      "metadata": {
        "id": "l1OeI1YMGlFn"
      }
    },
    {
      "cell_type": "code",
      "source": [
        "antwoord = input(\"Typ je antwoord (A, B, or C) en druk op Enter: \")"
      ],
      "metadata": {
        "id": "ThikRj3h_E-O"
      },
      "execution_count": null,
      "outputs": []
    },
    {
      "cell_type": "markdown",
      "source": [
        "Wat gebeurt er eigenlijk in de bovenstaande code? De Python instructie 'input' wacht totdat een gebruiker iets intikt en op Enter drukt.\n",
        "\n",
        "Wat de gebruiker heeft ingetikt wordt in de bovenstaande code opgeslagen in een zogenoemde 'variabele'. Een variabele kun je vergelijken met een doosje waar je iets in kunt stoppen. Je kunt het er op een later moment weer uithalen door de naam van de variabele in te toetsen in je code:"
      ],
      "metadata": {
        "id": "fUHNs9XzIAGo"
      }
    },
    {
      "cell_type": "code",
      "source": [
        "antwoord"
      ],
      "metadata": {
        "id": "pev4VssWIm9I"
      },
      "execution_count": null,
      "outputs": []
    },
    {
      "cell_type": "markdown",
      "source": [
        "Uiteraard wisten jullie allemaal dat het goede antwoord 'B' was. Laten we dat aan de computer vertellen en die vervolgens laten controleren of je het antwoord goed had. Dat doen we met een zogeheten 'conditionele expressie':"
      ],
      "metadata": {
        "id": "brR-qfXsIrtI"
      }
    },
    {
      "cell_type": "code",
      "source": [
        "juiste_antwoord = \"B\"\n",
        "\n",
        "if antwoord.upper() == juiste_antwoord:\n",
        "  print(\"Je had het goed, ik had niet anders verwacht!\")\n",
        "else:\n",
        "  print(\"Nahh, dat klopt niet!\")\n"
      ],
      "metadata": {
        "id": "zLhk3BGX_Q-s"
      },
      "execution_count": null,
      "outputs": []
    },
    {
      "cell_type": "markdown",
      "source": [
        "De code hierboven checkt of de variabele antwoord gelijk is aan 'B'. Let op het dubbele '==' teken. Waarom denk je dat dat teken dubbel is?"
      ],
      "metadata": {
        "id": "9sCY41GZKrlh"
      }
    }
  ]
}